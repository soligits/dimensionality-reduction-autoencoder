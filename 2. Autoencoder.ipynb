{
 "cells": [
  {
   "cell_type": "markdown",
   "metadata": {},
   "source": [
    "<img src='http://www-scf.usc.edu/~ghasemig/images/sharif.png' alt=\"SUT logo\" width=200 height=200 align=left class=\"saturate\" >\n",
    "\n",
    "<br>\n",
    "<font face=\"Times New Roman\">\n",
    "<div dir=ltr align=center>\n",
    "<font color=0F5298 size=7>\n",
    "    Introduction to Machine Learning <br>\n",
    "<font color=2565AE size=5>\n",
    "    Computer Engineering Department <br>\n",
    "    Fall 2022<br>\n",
    "<font color=3C99D size=5>\n",
    "    Homework 3: Practical - Neural Network <br>\n",
    "<font color=696880 size=4>\n",
    "    Alireza Belal\n",
    "    \n",
    "    \n",
    "____\n"
   ]
  },
  {
   "attachments": {},
   "cell_type": "markdown",
   "metadata": {},
   "source": [
    "### Full Name : Mohammad Bagher Soltani\n",
    "### Student Number : 98105813\n",
    "___"
   ]
  },
  {
   "cell_type": "markdown",
   "metadata": {},
   "source": [
    "# Setup"
   ]
  },
  {
   "cell_type": "markdown",
   "metadata": {},
   "source": [
    "# 0. Preparation\n",
    "\n",
    "In this part, you will use a dataset related to COVID-19. Load your dataset using pandas."
   ]
  },
  {
   "cell_type": "code",
   "execution_count": 9,
   "metadata": {},
   "outputs": [],
   "source": [
    "import pandas as pd\n",
    "from sklearn.preprocessing import LabelEncoder\n",
    "covid_data = pd.read_csv('./Covid Dataset.csv')\n",
    "categorical_feature_mask = covid_data.dtypes == object\n",
    "categorical_cols = covid_data.columns[categorical_feature_mask].tolist()\n",
    "le = LabelEncoder()\n",
    "covid_data[categorical_cols] = covid_data[categorical_cols].apply(lambda col: le.fit_transform(col))\n",
    "covid_data = covid_data.astype(float)\n",
    "\n",
    "# Extract X and Y from the dataset\n",
    "X_total = covid_data.iloc[:, 0:20].values\n",
    "y_total = covid_data.iloc[:,20].values\n",
    "\n",
    "\n",
    "#SPLIT THE DATA INTO TRAIN AND TEST DATA \n",
    "from sklearn.model_selection import train_test_split\n",
    "X_train, X_test, y_train, y_test = train_test_split(X_total, y_total, test_size = 0.3, random_state = 0)"
   ]
  },
  {
   "cell_type": "markdown",
   "metadata": {},
   "source": [
    "---------------"
   ]
  },
  {
   "cell_type": "markdown",
   "metadata": {},
   "source": [
    "# 1. DNN as nonlinear dimensionality reduction method (50 Points)\n",
    "\n",
    "Autoencoder is an unsupervised artificial neural network that compresses the data to lower dimension and then reconstructs the input back. Autoencoder finds the representation of the data in a lower dimension by focusing more on the important features getting rid of noise and redundancy. It's based on Encoder-Decoder architecture, where encoder encodes the high-dimensional data to lower-dimension and decoder takes the lower-dimensional data and tries to reconstruct the original high-dimensional data.\n",
    "\n",
    "![picture](https://drive.google.com/uc?id=1RTZwx4xL6zFV_nUENBgWlFKLKldPoyI-)\n",
    "\n",
    "In the above Diagram, X is the input data, z is the lower-dimension representation of input X and X’ is the reconstructed input data. The mapping of higher to lower dimensions can be linear or non-linear depending on the choice of the activation function.\n",
    "\n",
    "In this part you're gonna implement an autoencoder using Keras framework as dimensionally reduction module as explained [here](https://blog.keras.io/building-autoencoders-in-keras.html).\n",
    "(It would be ok to use PyTorch as well.)\n",
    "Reduce the dimension of the data to 2 dimensions and visualize the low-dimensional data."
   ]
  },
  {
   "cell_type": "code",
   "execution_count": 18,
   "metadata": {
    "id": "moGEgpV999cl"
   },
   "outputs": [],
   "source": [
    "# import necessary libraries\n",
    "import numpy as np\n",
    "import torch\n",
    "import torch.nn as nn\n",
    "from torch.utils.data import Dataset, DataLoader\n",
    "from tqdm import tqdm\n",
    "import matplotlib.pyplot as plt"
   ]
  },
  {
   "cell_type": "code",
   "execution_count": 11,
   "metadata": {},
   "outputs": [
    {
     "data": {
      "text/plain": [
       "device(type='cpu')"
      ]
     },
     "execution_count": 11,
     "metadata": {},
     "output_type": "execute_result"
    }
   ],
   "source": [
    "device = torch.device('cuda' if torch.cuda.is_available() else 'cpu')\n",
    "device"
   ]
  },
  {
   "cell_type": "code",
   "execution_count": 12,
   "metadata": {},
   "outputs": [],
   "source": [
    "# define layers (25 Points)\n",
    "encoder = nn.Sequential(\n",
    "    nn.Linear(in_features=20, out_features=2),\n",
    "    nn.ReLU()\n",
    ")\n",
    "decoder = nn.Sequential(\n",
    "    nn.Linear(in_features=2, out_features=20),\n",
    "    nn.Sigmoid()\n",
    ")\n",
    "autoencoder = nn.Sequential(encoder, decoder)\n",
    "autoencoder.to(device)\n",
    "criterion = nn.BCELoss()\n",
    "optimizer = torch.optim.Adam(autoencoder.parameters(), lr=1e-3)"
   ]
  },
  {
   "cell_type": "code",
   "execution_count": 13,
   "metadata": {},
   "outputs": [],
   "source": [
    "class CovidDataset(Dataset):\n",
    "    def __init__(self, data, labels):\n",
    "        self.data = data\n",
    "        self.labels = labels\n",
    "    \n",
    "    def __len__(self):\n",
    "        return len(self.data)\n",
    "\n",
    "    def __getitem__(self, i):\n",
    "        return np.float32(self.data[i]), np.float32(self.labels[i])"
   ]
  },
  {
   "cell_type": "code",
   "execution_count": 14,
   "metadata": {},
   "outputs": [],
   "source": [
    "train_ds = CovidDataset(data=X_train, labels=y_train)\n",
    "test_ds = CovidDataset(data=X_test, labels=y_test)\n",
    "\n",
    "batch_size = 16\n",
    "train_dl = DataLoader(train_ds, batch_size=batch_size, shuffle=True)\n",
    "test_dl = DataLoader(test_ds, batch_size=batch_size, shuffle=True)\n"
   ]
  },
  {
   "cell_type": "code",
   "execution_count": 15,
   "metadata": {},
   "outputs": [
    {
     "name": "stderr",
     "output_type": "stream",
     "text": [
      "Train 0 | Loss: 4.039e-02 | Accuracy: 0.599: 100%|██████████| 238/238 [00:00<00:00, 336.78it/s]\n",
      "Train 1 | Loss: 3.731e-02 | Accuracy: 0.661: 100%|██████████| 238/238 [00:00<00:00, 372.66it/s]\n",
      "Train 2 | Loss: 3.567e-02 | Accuracy: 0.677: 100%|██████████| 238/238 [00:00<00:00, 349.09it/s]\n",
      "Train 3 | Loss: 3.476e-02 | Accuracy: 0.686: 100%|██████████| 238/238 [00:00<00:00, 351.55it/s]\n",
      "Train 4 | Loss: 3.420e-02 | Accuracy: 0.693: 100%|██████████| 238/238 [00:00<00:00, 367.32it/s]\n",
      "Train 5 | Loss: 3.381e-02 | Accuracy: 0.696: 100%|██████████| 238/238 [00:00<00:00, 330.51it/s]\n",
      "Train 6 | Loss: 3.351e-02 | Accuracy: 0.696: 100%|██████████| 238/238 [00:00<00:00, 349.39it/s]\n",
      "Train 7 | Loss: 3.326e-02 | Accuracy: 0.697: 100%|██████████| 238/238 [00:00<00:00, 337.41it/s]\n",
      "Train 8 | Loss: 3.305e-02 | Accuracy: 0.699: 100%|██████████| 238/238 [00:00<00:00, 348.46it/s]\n",
      "Train 9 | Loss: 3.287e-02 | Accuracy: 0.703: 100%|██████████| 238/238 [00:00<00:00, 353.61it/s]\n",
      "Train 10 | Loss: 3.272e-02 | Accuracy: 0.706: 100%|██████████| 238/238 [00:00<00:00, 365.67it/s]\n",
      "Train 11 | Loss: 3.258e-02 | Accuracy: 0.710: 100%|██████████| 238/238 [00:00<00:00, 353.56it/s]\n",
      "Train 12 | Loss: 3.245e-02 | Accuracy: 0.712: 100%|██████████| 238/238 [00:00<00:00, 344.87it/s]\n",
      "Train 13 | Loss: 3.234e-02 | Accuracy: 0.716: 100%|██████████| 238/238 [00:00<00:00, 360.39it/s]\n",
      "Train 14 | Loss: 3.224e-02 | Accuracy: 0.716: 100%|██████████| 238/238 [00:00<00:00, 398.66it/s]\n",
      "Train 15 | Loss: 3.215e-02 | Accuracy: 0.717: 100%|██████████| 238/238 [00:00<00:00, 367.18it/s]\n",
      "Train 16 | Loss: 3.207e-02 | Accuracy: 0.718: 100%|██████████| 238/238 [00:00<00:00, 390.35it/s]\n",
      "Train 17 | Loss: 3.199e-02 | Accuracy: 0.716: 100%|██████████| 238/238 [00:00<00:00, 358.96it/s]\n",
      "Train 18 | Loss: 3.193e-02 | Accuracy: 0.715: 100%|██████████| 238/238 [00:00<00:00, 389.38it/s]\n",
      "Train 19 | Loss: 3.187e-02 | Accuracy: 0.715: 100%|██████████| 238/238 [00:00<00:00, 369.93it/s]\n"
     ]
    }
   ],
   "source": [
    "# train the model and reduce the dimension of the data (15 Points)\n",
    "num_epochs = 20\n",
    "train_total_step = len(train_dl)\n",
    "train_losses = []\n",
    "train_accs = []\n",
    "train_f1s = []\n",
    "\n",
    "for epoch in range(num_epochs):\n",
    "    train_loss = 0.0\n",
    "    correct = 0\n",
    "    total = 0\n",
    "    conf_matrix = np.zeros((10, 10))\n",
    "    with tqdm(enumerate(train_dl), total=train_total_step) as pbar:\n",
    "        for i, (data, labels) in pbar:  \n",
    "            optimizer.zero_grad()\n",
    "            data = data.to(device)\n",
    "            labels = labels.to(device)\n",
    "            preds = autoencoder(data)\n",
    "            outputs = torch.round(preds)\n",
    "            loss = criterion(preds, data)\n",
    "            total += len(data)\n",
    "            train_loss += loss.detach()\n",
    "            loss.backward()\n",
    "            optimizer.step()\n",
    "            \n",
    "            correct += np.sum(outputs.detach().numpy() == data.cpu().numpy()) / 20\n",
    "            acc = correct / total\n",
    "            pbar.set_description(f'Train {epoch} | Loss: {train_loss/total:.3e} | Accuracy: {acc:.3f}')\n",
    "\n",
    "    train_losses.append(train_loss / total)\n",
    "    train_accs.append(correct / total)\n"
   ]
  },
  {
   "cell_type": "code",
   "execution_count": 34,
   "metadata": {},
   "outputs": [],
   "source": [
    "# encode the train data\n",
    "\n",
    "with torch.no_grad():\n",
    "    encoded_data = []\n",
    "    for (data, _) in train_dl:\n",
    "        data = data.to(device)\n",
    "        encoded = encoder(data)\n",
    "        encoded_data.append(encoded)\n",
    "    encoded_data = torch.cat(encoded_data)\n",
    "    encoded_data = encoded_data.cpu().numpy()\n"
   ]
  },
  {
   "cell_type": "code",
   "execution_count": 35,
   "metadata": {},
   "outputs": [
    {
     "data": {
      "image/png": "[encoded data removed]",
      "text/plain": [
       "<Figure size 432x288 with 1 Axes>"
      ]
     },
     "metadata": {
      "needs_background": "light"
     },
     "output_type": "display_data"
    }
   ],
   "source": [
    "# Plot the encoded data (10 Points)\n",
    "x_values = list(map(lambda datum: datum[0], encoded_data))\n",
    "y_values = list(map(lambda datum: datum[1], encoded_data))\n",
    "plt.plot(x_values, y_values,'ro')\n",
    "plt.show()"
   ]
  }
 ],
 "metadata": {
  "colab": {
   "provenance": []
  },
  "kernelspec": {
   "display_name": "base",
   "language": "python",
   "name": "python3"
  },
  "language_info": {
   "codemirror_mode": {
    "name": "ipython",
    "version": 3
   },
   "file_extension": ".py",
   "mimetype": "text/x-python",
   "name": "python",
   "nbconvert_exporter": "python",
   "pygments_lexer": "ipython3",
   "version": "3.9.12"
  },
  "vscode": {
   "interpreter": {
    "hash": "4505c32f76012c632bc1937466981275dc824c4a4bf8fed43f9e38cd69a6e7a6"
   }
  }
 },
 "nbformat": 4,
 "nbformat_minor": 1
}
